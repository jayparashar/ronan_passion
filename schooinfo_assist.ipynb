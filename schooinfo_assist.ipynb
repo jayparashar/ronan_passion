{
 "cells": [
  {
   "cell_type": "code",
   "execution_count": null,
   "id": "4c20f2f1",
   "metadata": {},
   "outputs": [],
   "source": [
    "# your_project/\n",
    "# ├── website_content/     # Your scraped text files\n",
    "# ├── school_logo.png     # Optional: Your school logo\n",
    "# └── app.py             # The main application file"
   ]
  },
  {
   "cell_type": "code",
   "execution_count": 1,
   "id": "b10ac595",
   "metadata": {},
   "outputs": [
    {
     "name": "stdout",
     "output_type": "stream",
     "text": [
      "hello\n"
     ]
    }
   ],
   "source": [
    "print(\"hello\")"
   ]
  }
 ],
 "metadata": {
  "kernelspec": {
   "display_name": "venv",
   "language": "python",
   "name": "python3"
  },
  "language_info": {
   "codemirror_mode": {
    "name": "ipython",
    "version": 3
   },
   "file_extension": ".py",
   "mimetype": "text/x-python",
   "name": "python",
   "nbconvert_exporter": "python",
   "pygments_lexer": "ipython3",
   "version": "3.13.3"
  }
 },
 "nbformat": 4,
 "nbformat_minor": 5
}
